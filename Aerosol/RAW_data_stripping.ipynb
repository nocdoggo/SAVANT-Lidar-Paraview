{
 "cells": [
  {
   "cell_type": "markdown",
   "metadata": {
    "collapsed": true,
    "pycharm": {
     "is_executing": false,
     "name": "#%% md\n"
    }
   },
   "source": [
    "## RAW data conversion "
   ]
  },
  {
   "cell_type": "code",
   "execution_count": 38,
   "outputs": [
    {
     "name": "stdout",
     "text": [
      "pass!\n"
     ],
     "output_type": "stream"
    }
   ],
   "source": [
    "import sys\n",
    "import subprocess       # This won't work with anaconda, and do NOT recommend you to use conda\n",
    "import glob # This is the system default package\n",
    "\n",
    "import numpy as np\n",
    "try:\n",
    "    from matplotlib import pyplot as plt\n",
    "except:\n",
    "    print(\"The library matplotlib can't be loaded. Please wait for the installation and re-run program!\")\n",
    "    subprocess.check_call([sys.executable, '-m', 'pip', 'install', 'matplotlib'])\n",
    "   \n",
    "import atmospheric_lidar \n",
    "from atmospheric_lidar import raymetrics\n",
    "\n",
    "if atmospheric_lidar.__version__ != '0.5.0':\n",
    "    print('Failed! Update the library to 0.5.0 form the library.')\n",
    "else:\n",
    "    pass\n"
   ],
   "metadata": {
    "collapsed": false,
    "pycharm": {
     "name": "#%%\n",
     "is_executing": false
    }
   }
  },
  {
   "cell_type": "code",
   "execution_count": 39,
   "outputs": [
    {
     "name": "stdout",
     "text": [
      "160 files found.\n"
     ],
     "output_type": "stream"
    }
   ],
   "source": [
    "file_paths = sorted(glob.glob('D:/GitHub/SAVANT-Lidar-Paraview/Aerosol/2018-10-17-18/0320/R*'))\n",
    "print(\"%s files found.\" % len(file_paths))\n",
    "\n",
    "file_num = len(file_paths)"
   ],
   "metadata": {
    "collapsed": false,
    "pycharm": {
     "name": "#%%\n",
     "is_executing": false
    }
   }
  },
  {
   "cell_type": "code",
   "execution_count": 40,
   "outputs": [
    {
     "name": "stdout",
     "text": [
      "160\n"
     ],
     "output_type": "stream"
    }
   ],
   "source": [
    "print(file_num)\n",
    "for i in range(file_num):\n",
    "    f = raymetrics.ScanningFile(file_paths[i], get_name_by_order=True)\n",
    "    f.save_as_csv()\n",
    "    "
   ],
   "metadata": {
    "collapsed": false,
    "pycharm": {
     "name": "#%%\n",
     "is_executing": false
    }
   }
  }
 ],
 "metadata": {
  "kernelspec": {
   "display_name": "Python 3",
   "language": "python",
   "name": "python3"
  },
  "language_info": {
   "codemirror_mode": {
    "name": "ipython",
    "version": 2
   },
   "file_extension": ".py",
   "mimetype": "text/x-python",
   "name": "python",
   "nbconvert_exporter": "python",
   "pygments_lexer": "ipython2",
   "version": "2.7.6"
  },
  "pycharm": {
   "stem_cell": {
    "cell_type": "raw",
    "source": [],
    "metadata": {
     "collapsed": false
    }
   }
  }
 },
 "nbformat": 4,
 "nbformat_minor": 0
}